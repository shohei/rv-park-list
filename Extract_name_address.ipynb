{
 "cells": [
  {
   "cell_type": "code",
   "execution_count": 38,
   "id": "11d42160-0171-4501-b205-884a1980c44d",
   "metadata": {},
   "outputs": [],
   "source": [
    "import pandas as pd"
   ]
  },
  {
   "cell_type": "code",
   "execution_count": 31,
   "id": "ad8de4cd-1fd5-486c-bc13-db6082ab757b",
   "metadata": {},
   "outputs": [],
   "source": [
    "import requests\n",
    "from bs4 import BeautifulSoup\n",
    "\n",
    "f = open('list.html', 'r')\n",
    "s = f.read()\n",
    "soup = BeautifulSoup(s,\"html.parser\")\n",
    "\n",
    "names = []\n",
    "parks = soup.select('.areaBox dl dt a')\n",
    "for park in parks:\n",
    "    names.append(park.text)\n",
    "parks = soup.select('.areaBox dl dd p')\n",
    "addresses = []\n",
    "flag = False\n",
    "for park in parks:\n",
    "    flag = ~flag\n",
    "    if(flag):\n",
    "        addresses.append(park.text)"
   ]
  },
  {
   "cell_type": "code",
   "execution_count": 34,
   "id": "9d0b6e69-7ba2-4d97-8355-9f8c46339730",
   "metadata": {},
   "outputs": [
    {
     "name": "stdout",
     "output_type": "stream",
     "text": [
      "466\n",
      "466\n"
     ]
    }
   ],
   "source": [
    "print(len(names))\n",
    "print(len(addresses))"
   ]
  },
  {
   "cell_type": "code",
   "execution_count": 41,
   "id": "edd8d074-773c-458f-8ff3-83617979f4fa",
   "metadata": {},
   "outputs": [],
   "source": [
    "df = pd.DataFrame(columns=['name','address'])\n",
    "\n",
    "for (name, address) in zip(names, addresses):\n",
    "    df = pd.concat([df, pd.DataFrame([{'name': name, 'address': address}])], ignore_index=True)\n",
    "    #print(name, address)"
   ]
  },
  {
   "cell_type": "code",
   "execution_count": 44,
   "id": "c13289f5-3697-406a-abba-e44cead9db4b",
   "metadata": {},
   "outputs": [],
   "source": [
    "df.to_csv('rv_park_list.csv',sep=',')"
   ]
  },
  {
   "cell_type": "code",
   "execution_count": null,
   "id": "cb67dd46-31cf-405e-b7af-897844155ec0",
   "metadata": {},
   "outputs": [],
   "source": []
  }
 ],
 "metadata": {
  "kernelspec": {
   "display_name": "Python 3 (ipykernel)",
   "language": "python",
   "name": "python3"
  },
  "language_info": {
   "codemirror_mode": {
    "name": "ipython",
    "version": 3
   },
   "file_extension": ".py",
   "mimetype": "text/x-python",
   "name": "python",
   "nbconvert_exporter": "python",
   "pygments_lexer": "ipython3",
   "version": "3.11.5"
  }
 },
 "nbformat": 4,
 "nbformat_minor": 5
}
